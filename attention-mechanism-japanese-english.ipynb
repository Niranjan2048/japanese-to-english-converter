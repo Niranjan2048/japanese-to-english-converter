{
 "cells": [
  {
   "cell_type": "markdown",
   "metadata": {},
   "source": [
    "## Translating Japanese text to English using attention enabled Encoder-Decoder model."
   ]
  },
  {
   "cell_type": "markdown",
   "metadata": {},
   "source": [
    "<img src=\"https://i.ibb.co/CVCNVxS/Screen-Shot-2020-08-19-at-7-25-13-AM.png\" alt=\"Screen-Shot-2020-08-19-at-7-25-13-AM\" border=\"0\">"
   ]
  },
  {
   "cell_type": "markdown",
   "metadata": {},
   "source": [
    "### 🤔 What is Attention mechanism?\n",
    "#### Before understanding the attention mechanism, first let's take a quick look at Encoder-Decoder architecture."
   ]
  },
  {
   "cell_type": "markdown",
   "metadata": {},
   "source": [
    "### 𝌭 Encoder-Decoder model:\n",
    "![encoder decoder image](https://queirozf.com/images/contents/ZZqXAUp.png)\n",
    "\n",
    "#### The Encoder-Decoder architecture with recurrent neural networks has become an effective and standard approach for both neural machine translation (NMT) and sequence-to-sequence (seq2seq) prediction in general. The key benefits of the approach are the ability to train a single end-to-end model directly on source and target sentences and the ability to handle variable length input and output sequences of text.\n",
    "#### An Encoder-Decoder architecture was developed where an input sequence was read in entirety and encoded to a *fixed-length internal representation*. A decoder network then used this internal representation to output words until the end of sequence token was reached. LSTM networks were used for both the encoder and decoder.\n",
    "#### It works fairly well but without attention the performance drops as the length of the sentences increase.\n",
    "![bleu score encoder-decoder](https://3qeqpr26caki16dnhd19sv6by6v-wpengine.netdna-ssl.com/wp-content/uploads/2017/10/Loss-in-model-skill-with-increased-sentence-length.png)"
   ]
  },
  {
   "cell_type": "markdown",
   "metadata": {},
   "source": [
    "### ⁉️ Attention model:\n",
    "#### Attention is a mechanism that was developed to improve the performance of the Encoder-Decoder RNN on machine translation. It was proposed as a solution to the limitation of the Encoder-Decoder model encoding the input sequence to one *fixed length internal representation* from which to decode each output time step. This issue was believed to be more of a problem when decoding long sequences. Instead of encoding the input sequence into a single fixed context vector, the attention model develops a context vector that is filtered specifically for each output time step.\n",
    "![attention gif](https://labs.eleks.com/wp-content/uploads/2019/06/image5.gif)\n",
    "#### As with the Encoder-Decoder paper, the technique is applied to a machine translation problem and uses GRU units rather than LSTM memory cells. But in this project I'll be using LSTM memory cells.\n",
    "reference 1: https://machinelearningmastery.com/encoder-decoder-recurrent-neural-network-models-neural-machine-translation/\n",
    "\n",
    "reference 2: https://machinelearningmastery.com/how-does-attention-work-in-encoder-decoder-recurrent-neural-networks/"
   ]
  },
  {
   "cell_type": "markdown",
   "metadata": {},
   "source": [
    "### 🕵 How do Attention models work?\n",
    "#### Since the attention models are encoder-decoder models with attention mechanism, they function very similar to encoder-decoder models but with a catch. Given a problem of generating an output text sequence from input text sequence (Ex. converting a Japanese sentence to English), let's quickly go through the working of a encoder decoder model step by step:\n",
    "1. Encoding: The input sentence is first encoded as a single fixed-length vector.\n",
    "2. Score calculation: The encoded input sentence flows through the encoder and decoder. The decoder outputs one value at a time, which is passed on to perhaps more layers before finally outputting a prediction (y) for the current output time step. The alignment model scores (e) how well each encoded input (h) matches the current output of the decoder (s). The calculation of the score requires the output from the decoder from the previous output time step, e.g. s(t-1). When scoring the very first output for the decoder, this will be 0. Scoring is performed using a **function a()**.\n",
    "3. Annotation weights calculation: Next, the alignment scores are normalized using a softmax function. The normalization of the scores allows them to be treated like probabilities, indicating the likelihood of each encoded input time step (annotation) being relevant to the current output time step. These normalized scores are called annotation weights.\n",
    "4. Context-vector calculation: Next, each annotation (h) is multiplied by the annotation weights (a) to produce a new attended context vector from which the current output time step can be decoded.\n",
    "5. Decoding: Decoding is then performed as per the Encoder-Decoder model, although in this case using the attended context vector for the current time step.\n",
    "\n",
    "Find the original paper here: https://arxiv.org/abs/1706.03762"
   ]
  },
  {
   "cell_type": "markdown",
   "metadata": {},
   "source": [
    "#### Remember in the step 2 'Score calculation' the scoring is performed using a function. Now there are many scoring functions out there but in this project I'll be using *general method* for score calculation.\n",
    "<img src=\"https://i.ibb.co/dWB96PX/Screen-Shot-2020-08-19-at-4-44-12-AM.png\" alt=\"Screen-Shot-2020-08-19-at-4-44-12-AM\" border=\"0\">"
   ]
  },
  {
   "cell_type": "markdown",
   "metadata": {},
   "source": [
    "### Let's get started straight away!"
   ]
  },
  {
   "cell_type": "code",
   "execution_count": 1,
   "metadata": {},
   "outputs": [],
   "source": [
    "# installing japanese font\n",
    "from matplotlib.font_manager import FontProperties\n",
    "\n",
    "font_jp = FontProperties(fname=r'jap_font.ttf',size=10)"
   ]
  },
  {
   "cell_type": "code",
   "execution_count": 2,
   "metadata": {
    "id": "P0bWcJrZZl2x",
    "outputId": "313acfea-6e02-4b65-f9cc-6242a26924e5"
   },
   "outputs": [],
   "source": [
    "# Importing the necessary libraries.\n",
    "from tensorflow.compat.v1.keras.layers import CuDNNLSTM, CuDNNGRU\n",
    "from tensorflow.keras.preprocessing.sequence import pad_sequences\n",
    "from nltk.translate.bleu_score import sentence_bleu as bleu\n",
    "from janome.tokenizer import Tokenizer as janome_tokenizer\n",
    "from tensorflow.keras.preprocessing.text import Tokenizer\n",
    "from tensorflow.keras.layers import Dense, Embedding\n",
    "from sklearn.model_selection import train_test_split\n",
    "from tensorflow.keras.layers import TimeDistributed\n",
    "from tensorflow.keras.models import Model\n",
    "import matplotlib.pyplot as plt\n",
    "from tqdm.notebook import tqdm\n",
    "import tensorflow as tf\n",
    "import seaborn as sns\n",
    "import pandas as pd\n",
    "import numpy as np\n",
    "import datetime\n",
    "import warnings\n",
    "import time\n",
    "import re\n",
    "import os\n",
    "# warnings.filterwarnings(\"ignore\", message=\"Glyph \\d+ missing from current font.\")\n",
    "warnings.simplefilter(\"ignore\")\n",
    "sns.set()\n",
    "tf.compat.v1.enable_eager_execution()\n",
    "tf.keras.backend.clear_session()"
   ]
  },
  {
   "cell_type": "code",
   "execution_count": 3,
   "metadata": {},
   "outputs": [
    {
     "name": "stdout",
     "output_type": "stream",
     "text": [
      "Dimensions of the data as a dataframe:\n"
     ]
    },
    {
     "data": {
      "text/plain": [
       "(53594, 2)"
      ]
     },
     "execution_count": 3,
     "metadata": {},
     "output_type": "execute_result"
    }
   ],
   "source": [
    "f = open('./jpn.txt',encoding=\"utf8\").read() # reading data from file\n",
    "data_ = [line.split('\\t')[:2] for line in f.split('\\n')[:-1]] # removing attribution\n",
    "df = pd.DataFrame(data_, columns=['English', 'Japanese'])\n",
    "print('Dimensions of the data as a dataframe:')\n",
    "df.shape"
   ]
  },
  {
   "cell_type": "code",
   "execution_count": 4,
   "metadata": {},
   "outputs": [
    {
     "data": {
      "text/html": [
       "<div>\n",
       "<style scoped>\n",
       "    .dataframe tbody tr th:only-of-type {\n",
       "        vertical-align: middle;\n",
       "    }\n",
       "\n",
       "    .dataframe tbody tr th {\n",
       "        vertical-align: top;\n",
       "    }\n",
       "\n",
       "    .dataframe thead th {\n",
       "        text-align: right;\n",
       "    }\n",
       "</style>\n",
       "<table border=\"1\" class=\"dataframe\">\n",
       "  <thead>\n",
       "    <tr style=\"text-align: right;\">\n",
       "      <th></th>\n",
       "      <th>English</th>\n",
       "      <th>Japanese</th>\n",
       "    </tr>\n",
       "  </thead>\n",
       "  <tbody>\n",
       "    <tr>\n",
       "      <th>0</th>\n",
       "      <td>Go.</td>\n",
       "      <td>行け。</td>\n",
       "    </tr>\n",
       "    <tr>\n",
       "      <th>1</th>\n",
       "      <td>Go.</td>\n",
       "      <td>行きなさい。</td>\n",
       "    </tr>\n",
       "    <tr>\n",
       "      <th>2</th>\n",
       "      <td>Hi.</td>\n",
       "      <td>こんにちは。</td>\n",
       "    </tr>\n",
       "    <tr>\n",
       "      <th>3</th>\n",
       "      <td>Hi.</td>\n",
       "      <td>もしもし。</td>\n",
       "    </tr>\n",
       "    <tr>\n",
       "      <th>4</th>\n",
       "      <td>Hi.</td>\n",
       "      <td>やっほー。</td>\n",
       "    </tr>\n",
       "    <tr>\n",
       "      <th>5</th>\n",
       "      <td>Hi.</td>\n",
       "      <td>こんにちは！</td>\n",
       "    </tr>\n",
       "    <tr>\n",
       "      <th>6</th>\n",
       "      <td>Run.</td>\n",
       "      <td>走れ。</td>\n",
       "    </tr>\n",
       "    <tr>\n",
       "      <th>7</th>\n",
       "      <td>Run.</td>\n",
       "      <td>走って！</td>\n",
       "    </tr>\n",
       "    <tr>\n",
       "      <th>8</th>\n",
       "      <td>Who?</td>\n",
       "      <td>誰？</td>\n",
       "    </tr>\n",
       "    <tr>\n",
       "      <th>9</th>\n",
       "      <td>Wow!</td>\n",
       "      <td>すごい！</td>\n",
       "    </tr>\n",
       "  </tbody>\n",
       "</table>\n",
       "</div>"
      ],
      "text/plain": [
       "  English Japanese\n",
       "0     Go.      行け。\n",
       "1     Go.   行きなさい。\n",
       "2     Hi.   こんにちは。\n",
       "3     Hi.    もしもし。\n",
       "4     Hi.    やっほー。\n",
       "5     Hi.   こんにちは！\n",
       "6    Run.      走れ。\n",
       "7    Run.     走って！\n",
       "8    Who?       誰？\n",
       "9    Wow!     すごい！"
      ]
     },
     "execution_count": 4,
     "metadata": {},
     "output_type": "execute_result"
    }
   ],
   "source": [
    "df.head(10)"
   ]
  },
  {
   "cell_type": "code",
   "execution_count": 5,
   "metadata": {},
   "outputs": [
    {
     "data": {
      "text/html": [
       "<div>\n",
       "<style scoped>\n",
       "    .dataframe tbody tr th:only-of-type {\n",
       "        vertical-align: middle;\n",
       "    }\n",
       "\n",
       "    .dataframe tbody tr th {\n",
       "        vertical-align: top;\n",
       "    }\n",
       "\n",
       "    .dataframe thead th {\n",
       "        text-align: right;\n",
       "    }\n",
       "</style>\n",
       "<table border=\"1\" class=\"dataframe\">\n",
       "  <thead>\n",
       "    <tr style=\"text-align: right;\">\n",
       "      <th></th>\n",
       "      <th>English</th>\n",
       "      <th>Japanese</th>\n",
       "    </tr>\n",
       "  </thead>\n",
       "  <tbody>\n",
       "    <tr>\n",
       "      <th>53584</th>\n",
       "      <td>The National Center for Education Information ...</td>\n",
       "      <td>全国教育情報センターによれば、退職した教員が復職しているおかげで、予測された教員不足は起こら...</td>\n",
       "    </tr>\n",
       "    <tr>\n",
       "      <th>53585</th>\n",
       "      <td>The people here are particular about what they...</td>\n",
       "      <td>ここの人たちは舌が肥えていますから、安くてもまずい店はすぐにつぶれてしまうんですよ。</td>\n",
       "    </tr>\n",
       "    <tr>\n",
       "      <th>53586</th>\n",
       "      <td>If a person has not had a chance to acquire hi...</td>\n",
       "      <td>大人になるまでの間に身につけなかった言語について、ネイティブスピーカーのレベルに達することは...</td>\n",
       "    </tr>\n",
       "    <tr>\n",
       "      <th>53587</th>\n",
       "      <td>Even at the end of the nineteenth century, sai...</td>\n",
       "      <td>１９世紀末でも、イギリス海軍の船員は、そうすることが弱さの印だという理由で、ナイフとフォーク...</td>\n",
       "    </tr>\n",
       "    <tr>\n",
       "      <th>53588</th>\n",
       "      <td>Tom said, \"You can kiss your girlfriend goodby...</td>\n",
       "      <td>「恋人にさよならのキスくらいしないと、キスしてあばよ、ということになるぞ」とトムは言ったが、...</td>\n",
       "    </tr>\n",
       "    <tr>\n",
       "      <th>53589</th>\n",
       "      <td>Five tremors in excess of magnitude 5.0 on the...</td>\n",
       "      <td>日本ではリヒター・スケールでマグニチュード5.0以上の余震が今週5回ありました。しかし科学者...</td>\n",
       "    </tr>\n",
       "    <tr>\n",
       "      <th>53590</th>\n",
       "      <td>The bus now arriving is going to Domestic Term...</td>\n",
       "      <td>ただ今到着のバスは、国内線第1ターミナル行きです。国際線ターミナルにお越しの方は、しばらくそ...</td>\n",
       "    </tr>\n",
       "    <tr>\n",
       "      <th>53591</th>\n",
       "      <td>A child who is a native speaker usually knows ...</td>\n",
       "      <td>ネイティブの子どもは、何年も学んだ非ネイティブが知らず今後も知り得ないたくさんのことを自身の...</td>\n",
       "    </tr>\n",
       "    <tr>\n",
       "      <th>53592</th>\n",
       "      <td>I do many things at the same time, so not only...</td>\n",
       "      <td>色々並行してやってるから芥川ばかり読んでるのでもないのだよ。今は英語読んでる時間が増えてる。...</td>\n",
       "    </tr>\n",
       "    <tr>\n",
       "      <th>53593</th>\n",
       "      <td>If someone who doesn't know your background sa...</td>\n",
       "      <td>生い立ちを知らない人にネイティブみたいに聞こえるよって言われたら、それはおそらく、あなたの喋...</td>\n",
       "    </tr>\n",
       "  </tbody>\n",
       "</table>\n",
       "</div>"
      ],
      "text/plain": [
       "                                                 English  \\\n",
       "53584  The National Center for Education Information ...   \n",
       "53585  The people here are particular about what they...   \n",
       "53586  If a person has not had a chance to acquire hi...   \n",
       "53587  Even at the end of the nineteenth century, sai...   \n",
       "53588  Tom said, \"You can kiss your girlfriend goodby...   \n",
       "53589  Five tremors in excess of magnitude 5.0 on the...   \n",
       "53590  The bus now arriving is going to Domestic Term...   \n",
       "53591  A child who is a native speaker usually knows ...   \n",
       "53592  I do many things at the same time, so not only...   \n",
       "53593  If someone who doesn't know your background sa...   \n",
       "\n",
       "                                                Japanese  \n",
       "53584  全国教育情報センターによれば、退職した教員が復職しているおかげで、予測された教員不足は起こら...  \n",
       "53585         ここの人たちは舌が肥えていますから、安くてもまずい店はすぐにつぶれてしまうんですよ。  \n",
       "53586  大人になるまでの間に身につけなかった言語について、ネイティブスピーカーのレベルに達することは...  \n",
       "53587  １９世紀末でも、イギリス海軍の船員は、そうすることが弱さの印だという理由で、ナイフとフォーク...  \n",
       "53588  「恋人にさよならのキスくらいしないと、キスしてあばよ、ということになるぞ」とトムは言ったが、...  \n",
       "53589  日本ではリヒター・スケールでマグニチュード5.0以上の余震が今週5回ありました。しかし科学者...  \n",
       "53590  ただ今到着のバスは、国内線第1ターミナル行きです。国際線ターミナルにお越しの方は、しばらくそ...  \n",
       "53591  ネイティブの子どもは、何年も学んだ非ネイティブが知らず今後も知り得ないたくさんのことを自身の...  \n",
       "53592  色々並行してやってるから芥川ばかり読んでるのでもないのだよ。今は英語読んでる時間が増えてる。...  \n",
       "53593  生い立ちを知らない人にネイティブみたいに聞こえるよって言われたら、それはおそらく、あなたの喋...  "
      ]
     },
     "execution_count": 5,
     "metadata": {},
     "output_type": "execute_result"
    }
   ],
   "source": [
    "df.tail(10)"
   ]
  },
  {
   "cell_type": "code",
   "execution_count": 6,
   "metadata": {
    "id": "GRQ5BwfIMAXy"
   },
   "outputs": [],
   "source": [
    "# For tokenizing the Japanese sentences\n",
    "from janome.tokenizer import Tokenizer as janome_tokenizer\n",
    "token_object = janome_tokenizer()"
   ]
  },
  {
   "cell_type": "markdown",
   "metadata": {
    "id": "tYyzaK0bbfN-"
   },
   "source": [
    "### 🧹 Data preprocessing"
   ]
  },
  {
   "cell_type": "code",
   "execution_count": 7,
   "metadata": {},
   "outputs": [],
   "source": [
    "mispell_dict = {\"aren't\" : \"are not\", \"can't\" : \"cannot\", \"couldn't\" : \"could not\", \n",
    "                \"couldnt\" : \"could not\", \"didn't\" : \"did not\", \"doesn't\" : \"does not\", \n",
    "                \"doesnt\" : \"does not\", \"don't\" : \"do not\", \"hadn't\" : \"had not\", \n",
    "                \"hasn't\" : \"has not\", \"haven't\" : \"have not\", \"havent\" : \"have not\", \n",
    "                \"he'd\" : \"he would\", \"he'll\" : \"he will\", \"he's\" : \"he is\", \"i'd\" : \"I would\",\n",
    "                \"i'd\" : \"I had\", \"i'll\" : \"I will\", \"i'm\" : \"I am\", \"isn't\" : \"is not\", \n",
    "                \"it's\" : \"it is\", \"it'll\":\"it will\", \"i've\" : \"I have\", \"let's\" : \"let us\", \n",
    "                \"mightn't\" : \"might not\", \"mustn't\" : \"must not\", \"shan't\" : \"shall not\", \n",
    "                \"she'd\" : \"she would\", \"she'll\" : \"she will\", \"she's\" : \"she is\", \n",
    "                \"shouldn't\" : \"should not\", \"shouldnt\" : \"should not\", \"that's\" : \"that is\", \n",
    "                \"thats\" : \"that is\", \"there's\" : \"there is\", \"theres\" : \"there is\", \n",
    "                \"they'd\" : \"they would\", \"they'll\" : \"they will\", \"they're\" : \"they are\", \n",
    "                \"theyre\": \"they are\", \"they've\" : \"they have\", \"we'd\" : \"we would\", \n",
    "                \"we're\" : \"we are\", \"weren't\" : \"were not\", \"we've\" : \"we have\", \n",
    "                \"what'll\" : \"what will\", \"what're\" : \"what are\", \"what's\" : \"what is\", \n",
    "                \"what've\" : \"what have\", \"where's\" : \"where is\", \"who'd\" : \"who would\",\n",
    "                \"who'll\" : \"who will\", \"who're\" : \"who are\", \"who's\" : \"who is\", \n",
    "                \"who've\" : \"who have\", \"won't\" : \"will not\", \"wouldn't\" : \"would not\", \n",
    "                \"you'd\" : \"you would\", \"you'll\" : \"you will\", \"you're\" : \"you are\", \n",
    "                \"you've\" : \"you have\", \"'re\": \" are\", \"wasn't\": \"was not\", \"we'll\":\" will\", \n",
    "                \"didn't\": \"did not\", \"tryin'\":\"trying\"\n",
    "                }\n",
    "\n",
    "def deconcate(sent):\n",
    "    keys = mispell_dict.keys()\n",
    "    cleaned_sentence = []\n",
    "    for word in sent.split(' '):\n",
    "        if word in keys:\n",
    "            cleaned_sentence.append(mispell_dict[word])\n",
    "        else:\n",
    "            cleaned_sentence.append(word)\n",
    "    return ' '.join(cleaned_sentence)"
   ]
  },
  {
   "cell_type": "code",
   "execution_count": 8,
   "metadata": {
    "id": "p0uBus6DjhQD"
   },
   "outputs": [],
   "source": [
    "def preprocess(phrase):\n",
    "  phrase = phrase.strip().lower()\n",
    "  phrase = deconcate(phrase)\n",
    "  phrase = '<sos> '+ phrase.lower() +' <eos>'\n",
    "  return phrase"
   ]
  },
  {
   "cell_type": "code",
   "execution_count": 9,
   "metadata": {
    "id": "AUd0OQWEa4vU",
    "outputId": "57cacd58-1006-433d-fd6f-c8816094e4f2"
   },
   "outputs": [
    {
     "data": {
      "application/vnd.jupyter.widget-view+json": {
       "model_id": "4a5c432b5bfd452aba9e415a794629e0",
       "version_major": 2,
       "version_minor": 0
      },
      "text/plain": [
       "  0%|          | 0/53594 [00:00<?, ?it/s]"
      ]
     },
     "metadata": {},
     "output_type": "display_data"
    }
   ],
   "source": [
    "# preprocessing the sentences by stripping and adding <sos>, <eos>\n",
    "english, japanese = [], []\n",
    "for line in tqdm(f.split('\\n')[:-1]):\n",
    "  english.append(preprocess(line.split('\\t')[0]))\n",
    "  jp_ = ' '.join([x.surface for x in token_object.tokenize(line.split('\\t')[1])])\n",
    "  japanese.append(preprocess(jp_))"
   ]
  },
  {
   "cell_type": "markdown",
   "metadata": {},
   "source": [
    "### 📊 Let's do some analysis on the sentence lengths."
   ]
  },
  {
   "cell_type": "code",
   "execution_count": 10,
   "metadata": {},
   "outputs": [],
   "source": [
    "_eng_len = [len(x.split(' '))-2 for x in english]\n",
    "_jpn_len = [len(x.split(' '))-2 for x in japanese]"
   ]
  },
  {
   "cell_type": "code",
   "execution_count": 11,
   "metadata": {},
   "outputs": [
    {
     "data": {
      "image/png": "[encoded data removed]",
      "text/plain": [
       "<Figure size 720x432 with 1 Axes>"
      ]
     },
     "metadata": {
      "needs_background": "light"
     },
     "output_type": "display_data"
    }
   ],
   "source": [
    "sns.set()\n",
    "fig = plt.figure(figsize=(10,6))\n",
    "sns.distplot(_eng_len)\n",
    "sns.distplot(_jpn_len, color='orange')\n",
    "fig.legend(labels=['English sentence data','Japanese sentence data'])\n",
    "plt.xlabel('Sentence length')\n",
    "plt.ylabel('Number of sentences')\n",
    "plt.title('Histograms of sentence lengths')\n",
    "plt.show()"
   ]
  },
  {
   "cell_type": "code",
   "execution_count": 12,
   "metadata": {},
   "outputs": [
    {
     "data": {
      "image/png": "[encoded data removed]",
      "text/plain": [
       "<Figure size 1440x720 with 2 Axes>"
      ]
     },
     "metadata": {
      "needs_background": "light"
     },
     "output_type": "display_data"
    }
   ],
   "source": [
    "fig, ax = plt.subplots(1,2, figsize=(20, 10))\n",
    "sns.violinplot(_eng_len, ax=ax[0], orient='v')\n",
    "fig.suptitle('Violinplot of sentence lengths')\n",
    "ax[0].set_xlabel('English Sentence length')\n",
    "ax[0].set_ylabel('Number of sentences')\n",
    "sns.violinplot(_jpn_len, ax=ax[1], orient='v', color='orange')\n",
    "ax[1].set_xlabel('Japanese Sentence length')\n",
    "ax[1].set_ylabel('Number of sentences')\n",
    "fig.legend(labels=['English sentence data','Japanese sentence data'])\n",
    "plt.show();"
   ]
  },
  {
   "cell_type": "markdown",
   "metadata": {},
   "source": [
    "#### Hmmm... The Japanese sentences tend to have a longer word length than the English sentences."
   ]
  },
  {
   "cell_type": "code",
   "execution_count": 13,
   "metadata": {
    "id": "wlikhI8iYjdH"
   },
   "outputs": [],
   "source": [
    "# initializing tokenizer To convert the words into numerical representation\n",
    "filters = \"+1234567890\\\"#$%&()*+,-/:;=@[\\\\]^_`{|}~'\"\n",
    "tokenizer_eng = Tokenizer(split=' ', char_level=False, filters=filters)\n",
    "# fitting on english\n",
    "tokenizer_eng.fit_on_texts(english)\n",
    "eng_tokens = tokenizer_eng.texts_to_sequences(english)\n",
    "# fitting on japanese\n",
    "tokenizer_jpn = Tokenizer(lower=True, split=' ', char_level=False, filters=filters)\n",
    "tokenizer_jpn.fit_on_texts(japanese)\n",
    "jpn_tokens = tokenizer_jpn.texts_to_sequences(japanese)"
   ]
  },
  {
   "cell_type": "code",
   "execution_count": 14,
   "metadata": {
    "id": "Y6Ng0tjDJGLx"
   },
   "outputs": [],
   "source": [
    "# defining the vocabulary size of english and japanese language in the given data.\n",
    "eng_vocab = len(tokenizer_eng.word_index.items()) + 1\n",
    "jpn_vocab = len(tokenizer_jpn.word_index.items()) + 1"
   ]
  },
  {
   "cell_type": "code",
   "execution_count": 15,
   "metadata": {
    "id": "zQbXqYsfrz9K"
   },
   "outputs": [],
   "source": [
    "# defining the max length of english and japanese sentence in the given data (for padding).\n",
    "eng_max = max([len(e) for e in eng_tokens])\n",
    "jpn_max = max([len(i) for i in jpn_tokens])"
   ]
  },
  {
   "cell_type": "code",
   "execution_count": 16,
   "metadata": {
    "id": "8hgBdaWpYjZq"
   },
   "outputs": [],
   "source": [
    "# Padding the tokenized data\n",
    "eng_padded = pad_sequences(eng_tokens, maxlen=eng_max, padding='post')\n",
    "jpn_padded = pad_sequences(jpn_tokens, maxlen=jpn_max, padding='post')"
   ]
  },
  {
   "cell_type": "code",
   "execution_count": 17,
   "metadata": {
    "id": "84XdFiHKzSc2"
   },
   "outputs": [],
   "source": [
    "# splitting data into train and test\n",
    "eng_tr, eng_te, jpn_tr, jpn_te = train_test_split(eng_padded, jpn_padded, test_size=0.03, random_state=42)"
   ]
  },
  {
   "cell_type": "code",
   "execution_count": 18,
   "metadata": {
    "id": "a4CWaLFVTN7S",
    "outputId": "2f494706-b303-478b-fbd1-b4fc9745a04e"
   },
   "outputs": [
    {
     "data": {
      "text/plain": [
       "((51986, 49), (51986, 60), (1608, 49), (1608, 60))"
      ]
     },
     "execution_count": 18,
     "metadata": {},
     "output_type": "execute_result"
    }
   ],
   "source": [
    "eng_tr.shape, jpn_tr.shape, eng_te.shape, jpn_te.shape"
   ]
  },
  {
   "cell_type": "markdown",
   "metadata": {
    "id": "S7T91Zoic3tT"
   },
   "source": [
    "### ⌸ General method for score calculation.\n",
    "#### Defining the encoder and decoder models"
   ]
  },
  {
   "cell_type": "code",
   "execution_count": 19,
   "metadata": {
    "id": "wIXar6MjAGWb"
   },
   "outputs": [],
   "source": [
    "class Encoder(tf.keras.layers.Layer):\n",
    "    def __init__(self, vocab_size, embedding_dim, enc_units):\n",
    "        super().__init__()\n",
    "        self.vocab_size = vocab_size\n",
    "        self.embedding_dim = embedding_dim\n",
    "        self.enc_units = enc_units\n",
    "        \n",
    "    def build(self, input_shape):\n",
    "        self.embedding = Embedding(input_dim=self.vocab_size, output_dim=self.embedding_dim, name=\"embedding_layer_encoder\")\n",
    "        self.lstm = CuDNNLSTM(self.enc_units, return_state=True, return_sequences=True,\n",
    "                             recurrent_initializer='glorot_uniform', name=\"Encoder_LSTM\")\n",
    "        \n",
    "    def call(self, input_sentances, state_h, state_c, training=True):\n",
    "        input_embedd = self.embedding(input_sentances)\n",
    "        self.lstm_output, self.lstm_state_h, self.state_c = self.lstm(input_embedd, initial_state=[state_h, state_c])\n",
    "        return self.lstm_output, self.lstm_state_h\n",
    "\n",
    "    def initialize_hidden_state(self, batch_sz):\n",
    "        return [tf.zeros((batch_sz, self.enc_units)), tf.zeros((batch_sz, self.enc_units))]\n",
    "    \n",
    "class Decoder(tf.keras.layers.Layer):\n",
    "    def __init__(self, vocab_size, embedding_dim, dec_units):\n",
    "        super().__init__()\n",
    "        self.vocab_size = vocab_size\n",
    "        self.embedding_dim = embedding_dim\n",
    "        self.dec_units = dec_units\n",
    "        self.dense = tf.keras.layers.Dense(vocab_size)\n",
    "        self.W1 = tf.keras.layers.Dense(self.dec_units)\n",
    "        self.W2 = tf.keras.layers.Dense(self.dec_units)\n",
    "        self.V = tf.keras.layers.Dense(1)\n",
    "\n",
    "    def build(self, input_shape):\n",
    "        self.embedding = Embedding(input_dim=self.vocab_size, output_dim=self.embedding_dim, name=\"embedding_layer_decoder\")\n",
    "        self.lstm = CuDNNLSTM(self.dec_units, return_state=True, return_sequences=True,\n",
    "                             recurrent_initializer='glorot_uniform', name=\"Encoder_LSTM\")\n",
    "        \n",
    "    def call(self, target_sentances, enc_output, state_h):\n",
    "        target_embedd = self.embedding(target_sentances)\n",
    "        # concat method as content-based function\n",
    "        hidden_with_time_axis = tf.expand_dims(state_h, 1) # expanding layer dimension for compatibility with encoder_output tensor\n",
    "        score = self.V(tf.nn.tanh(self.W1(enc_output) + self.W2(hidden_with_time_axis))) # calculating score\n",
    "        attention_weights = tf.nn.softmax(score, axis=1) # calculating attention_weights\n",
    "        context_vector = attention_weights * enc_output # calculating context_vector\n",
    "        context_vector = tf.reduce_sum(context_vector, axis=1) # preparing context vector to make it compatible with target_embedd\n",
    "        target_embedd = tf.concat([tf.expand_dims(context_vector, 1), target_embedd], axis=-1) # concatenating context vector and target_embeddings\n",
    "        lstm_output, state_h, state_c = self.lstm(target_embedd) # getting result from lstm\n",
    "        lstm_output = tf.reshape(lstm_output, (-1, lstm_output.shape[2])) # Making the output compatible for dense layer for (vocab representation)\n",
    "        dec_output = self.dense(lstm_output) # getting vocab size output\n",
    "        return  attention_weights, dec_output, state_h, attention_weights\n",
    "\n",
    "    def initialize_hidden_state(self, batch_sz):\n",
    "        return [tf.zeros((batch_sz, self.enc_units)), tf.zeros((batch_sz, self.enc_units))]"
   ]
  },
  {
   "cell_type": "markdown",
   "metadata": {
    "id": "nPt_6GLFrqP1"
   },
   "source": [
    "### 📉 Defining the loss function"
   ]
  },
  {
   "cell_type": "code",
   "execution_count": 20,
   "metadata": {
    "id": "JZ8aR6h34WMh"
   },
   "outputs": [],
   "source": [
    "optimizer = tf.keras.optimizers.Adam()\n",
    "def loss_function(real, pred):\n",
    "    mask = tf.cast(tf.cast(real, dtype=tf.bool), dtype=tf.float32) #mask to elemenate the loss due <pad> values\n",
    "    loss_ = tf.nn.sparse_softmax_cross_entropy_with_logits(labels=real, logits=pred) * mask\n",
    "    return tf.reduce_mean(loss_)"
   ]
  },
  {
   "cell_type": "markdown",
   "metadata": {
    "id": "IaGMqs1nh3Lv"
   },
   "source": [
    "### ⒡ BLEU score function"
   ]
  },
  {
   "cell_type": "code",
   "execution_count": 21,
   "metadata": {},
   "outputs": [],
   "source": [
    "# https://machinelearningmastery.com/calculate-bleu-score-for-text-python/\n",
    "warnings.simplefilter(\"ignore\")\n",
    "# I'll be calculating the BLEU score in 1000 random datapoints from test data.\n",
    "def bleu_score_calc(encoder, decoder):\n",
    "    size = 1000\n",
    "    pts = np.random.randint(0, jpn_te.shape[0], size)\n",
    "    q = jpn_te[pts]\n",
    "    questions = [t.split(' ')[1:-1] for t in tokenizer_jpn.sequences_to_texts(q)]\n",
    "\n",
    "    a = eng_te[pts]\n",
    "    answers = [t.split(' ')[1:-1] for t in tokenizer_eng.sequences_to_texts(a)]\n",
    "\n",
    "    inputs = tf.convert_to_tensor(q)\n",
    "    \n",
    "    state_h, state_c = [tf.zeros((size, units)), tf.zeros((size, units))]\n",
    "    encoder_output, state_h = encoder(inputs, state_h, state_c)\n",
    "    decoder_input = tf.expand_dims(tokenizer_jpn.texts_to_sequences(['<sos>'])[0]*size, 1)\n",
    "    \n",
    "    result = []\n",
    "    for i in range(eng_max):\n",
    "      attention_wts, decoder_output, state_h, _ = decoder(decoder_input, encoder_output, state_h)\n",
    "      predicted_word = tf.argmax(decoder_output, axis=1).numpy()\n",
    "      result.append(tokenizer_eng.sequences_to_texts(predicted_word.reshape(-1,1)))\n",
    "      decoder_input = tf.expand_dims(predicted_word, 1)\n",
    "    result = np.array(result).T\n",
    "    guesses = [x[:np.where(x=='<eos>')[0][0]] if ('<eos>' in x) else x for x in result]\n",
    "\n",
    "    return np.mean([bleu([x],y) for x,y in zip(answers, guesses)])"
   ]
  },
  {
   "cell_type": "markdown",
   "metadata": {},
   "source": [
    "### 📈 Function for plotting the heatmap of Annotation weights"
   ]
  },
  {
   "cell_type": "code",
   "execution_count": 22,
   "metadata": {},
   "outputs": [],
   "source": [
    "font_jp = FontProperties(fname=r'/usr/share/fonts/opentype/ipafont-gothic/ipagp.ttf',size=10)\n",
    "def plot_heatmap(df):\n",
    "  plt.figure(figsize=(16,10))\n",
    "  plt.title('heatmap of Annotation weights')\n",
    "  heatmap = plt.pcolor(df)\n",
    "\n",
    "  for y in range(df.shape[0]):\n",
    "      for x in range(df.shape[1]):\n",
    "          plt.text(x + 0.5, y + 0.5, '%.3f' % df.values[y, x],\n",
    "                  horizontalalignment='center',\n",
    "                  verticalalignment='center')\n",
    "\n",
    "  plt.colorbar(heatmap)\n",
    "  plt.yticks(np.arange(0.5, len(df.index), 1), df.index, fontproperties=font_jp)\n",
    "  plt.xticks(np.arange(0.5, len(df.columns), 1), df.columns, fontproperties=font_jp)\n",
    "  plt.show()"
   ]
  },
  {
   "cell_type": "code",
   "execution_count": 23,
   "metadata": {
    "id": "pPaqZzFVOExf"
   },
   "outputs": [],
   "source": [
    "train_loss = tf.keras.metrics.Mean('train_loss', dtype=tf.float32)"
   ]
  },
  {
   "cell_type": "markdown",
   "metadata": {
    "id": "d-Bv8dL88GMv"
   },
   "source": [
    "### 🧮 Gradient calculation and update"
   ]
  },
  {
   "cell_type": "code",
   "execution_count": 24,
   "metadata": {},
   "outputs": [],
   "source": [
    "# Calculation and applying gradient descent on the trainable parameters of the model\n",
    "@tf.function\n",
    "def train_step(encoder, decoder, state_h, state_c, inputs, target):\n",
    "    loss = 0\n",
    "    with tf.GradientTape() as tape:\n",
    "        encoder_output, state_h = encoder(inputs, state_h, state_c)\n",
    "        decoder_input = tf.expand_dims(tokenizer_jpn.texts_to_sequences(['<sos>'])[0] * BATCH_SIZE, 1)\n",
    "        for t in range(1, target.shape[1]):\n",
    "            attention_wts, decoder_output, state_h, score = decoder(decoder_input, encoder_output, state_h)\n",
    "            loss += loss_function(target[:, t], decoder_output)\n",
    "            decoder_input = tf.expand_dims(target[:, t], 1)\n",
    "    \n",
    "    batch_loss = (loss / int(target.shape[1]))\n",
    "    variables = encoder.variables + decoder.variables\n",
    "    gradients = tape.gradient(loss, variables)\n",
    "    optimizer.apply_gradients(zip(gradients, variables))\n",
    "    train_loss(batch_loss)\n",
    "    v_name = []\n",
    "    for v in variables:\n",
    "      v_name.append(v.name)\n",
    "\n",
    "    return batch_loss, v_name, gradients"
   ]
  },
  {
   "cell_type": "markdown",
   "metadata": {
    "id": "d6Tx-nPF8Jc-"
   },
   "source": [
    "### ㊟ Creating Attention model"
   ]
  },
  {
   "cell_type": "code",
   "execution_count": 25,
   "metadata": {},
   "outputs": [],
   "source": [
    "# https://www.tensorflow.org/tutorials/text/nmt_with_attention\n",
    "class MyModel(Model):\n",
    "    def __init__(self, jpn_vocab, eng_vocab, embedding_dim, units):\n",
    "        super().__init__() # https://stackoverflow.com/a/27134600/4084039\n",
    "        self.encoder = Encoder(jpn_vocab, embedding_dim, units)\n",
    "        self.decoder = Decoder(eng_vocab, embedding_dim, units)\n",
    "        self.optimizer = tf.keras.optimizers.Adam()\n",
    "        self.state_h = 0\n",
    "        self.state_c = 0\n",
    "        self.batch_loss = 0\n",
    "    \n",
    "    def fit(self, dataset, BATCH_SIZE, epochs):\n",
    "        tf.summary.trace_on(graph=True, profiler=False)\n",
    "        for epoch in range(epochs):\n",
    "            start = time.time()\n",
    "            total_loss = 0\n",
    "            self.state_h, self.state_c = self.encoder.initialize_hidden_state(BATCH_SIZE)\n",
    "            for (batch, (inputs, target)) in enumerate(dataset):\n",
    "                batch_loss, variables, gradients = train_step(self.encoder, self.decoder, self.state_h, self.state_c, inputs, target)\n",
    "                total_loss += batch_loss\n",
    "                if batch % 100 == 0:\n",
    "                    print('Epoch {} Batch {} Loss {:.4f}'.format(epoch + 1, batch, batch_loss.numpy()))\n",
    "\n",
    "            bleu_score = bleu_score_calc(self.encoder, self.decoder)\n",
    "\n",
    "            print('Epoch {} Loss {:.4f} BLEU-score {}'.format(epoch+1, total_loss/N_BATCH, bleu_score))\n",
    "            print('Time taken for 1 epoch {} sec\\n'.format(time.time() - start))\n",
    "\n",
    "        tf.summary.trace_off()\n",
    "        print('training completed...!')\n",
    "        print('returning gradients...')\n",
    "        train_loss.reset_states()\n",
    "\n",
    "    # function for translating the input japanese sentence to english and plotting the annotation/attention scores.\n",
    "    # If no sentence is passed, it picks a random sentence from Japanese test data\n",
    "    def test(self, input_sentence=''):\n",
    "        if input_sentence=='':\n",
    "          k = np.random.randint(len(jpn_te)) # a random number\n",
    "          w = jpn_te[k] # a random sentence sequence from the input language\n",
    "          asked = tokenizer_jpn.sequences_to_texts([w])[0] # converting the input sequence into text\n",
    "          print(f\"input sentence: {' '.join(asked.split(' ')[1:-1])}\") # printing the input text sequence\n",
    "\n",
    "          o = eng_te[k] # a random sentence sequence from the output language\n",
    "          o = tokenizer_eng.sequences_to_texts([o])[0] # converting the output sequence into text\n",
    "          print(f\"actual translation: {' '.join(o.split(' ')[1:-1])}\") # printing the output text sequence\n",
    "        \n",
    "        else:\n",
    "          inp = ' '.join([x.surface for x in token_object.tokenize(input_sentence)])\n",
    "          prep = preprocess(inp)\n",
    "          jp_tkn = tokenizer_jpn.texts_to_sequences([prep])\n",
    "          w = pad_sequences(jp_tkn, maxlen=jpn_max, padding='post')[0]\n",
    "          asked = tokenizer_jpn.sequences_to_texts([w])[0] # converting the input sequence into text\n",
    "          print(f\"input sentence: {' '.join(asked.split(' ')[1:-1])}\") # printing the input text sequence\n",
    "\n",
    "        # preparing input for attention model\n",
    "        inputs = tf.convert_to_tensor(w.reshape(1,-1)) # initializing the input as a tensor\n",
    "        state_h, state_c = [tf.zeros((1, units)), tf.zeros((1, units))] # initializing the hidden layers (all zeros)\n",
    "        encoder_output, state_h = self.encoder(inputs, state_h, state_c)\n",
    "        decoder_input = tf.expand_dims(tokenizer_jpn.texts_to_sequences(['<sos>'])[0], 0) # decoder initial input as all <sos>\n",
    "        # translating sentence\n",
    "        attention = []\n",
    "        result = ''\n",
    "        for i in range(eng_max):\n",
    "          attention_wts, decoder_output, state_h, _ = self.decoder(decoder_input, encoder_output, state_h)\n",
    "          attention_wts = attention_wts.numpy().flatten()\n",
    "          predicted_word = tf.argmax(decoder_output[0]).numpy()\n",
    "          if predicted_word == tokenizer_jpn.texts_to_sequences(['<eos>'])[0][0]:\n",
    "            break\n",
    "          result += tokenizer_eng.sequences_to_texts([[predicted_word]])[0] + ' '\n",
    "          decoder_input = tf.expand_dims([predicted_word], 0)\n",
    "          attention.append(attention_wts[1:len(asked.split(' '))-1])\n",
    "        print(f'predicted translation: {result}')\n",
    "\n",
    "        attention = np.array(attention)\n",
    "        index = result.split(' ')[:-1]\n",
    "        columns = asked.split(' ')[1:-1]\n",
    "\n",
    "        atten = pd.DataFrame(attention, columns=columns, index=index)\n",
    "        plot_heatmap(atten)"
   ]
  },
  {
   "cell_type": "markdown",
   "metadata": {},
   "source": [
    "### 🏋 Defining some more parameters and training the model"
   ]
  },
  {
   "cell_type": "code",
   "execution_count": 26,
   "metadata": {
    "id": "ceySHtjVrwKW",
    "outputId": "143349c6-ff35-4802-a1ce-f2ec59d10e63"
   },
   "outputs": [
    {
     "name": "stdout",
     "output_type": "stream",
     "text": [
      "406\n"
     ]
    }
   ],
   "source": [
    "BUFFER_SIZE = len(eng_tr)\n",
    "BATCH_SIZE = 128\n",
    "N_BATCH = BUFFER_SIZE//BATCH_SIZE\n",
    "embedding_dim = 256\n",
    "units = 1024\n",
    "EPOCHS = 20\n",
    "print(N_BATCH)\n",
    "\n",
    "dataset = tf.data.Dataset.from_tensor_slices((jpn_tr, eng_tr)).shuffle(BUFFER_SIZE)\n",
    "dataset = dataset.batch(BATCH_SIZE, drop_remainder=True)"
   ]
  },
  {
   "cell_type": "code",
   "execution_count": 27,
   "metadata": {},
   "outputs": [
    {
     "name": "stdout",
     "output_type": "stream",
     "text": [
      "Num GPUs Available:  0\n"
     ]
    }
   ],
   "source": [
    "import tensorflow as tf\n",
    "print(\"Num GPUs Available: \", len(tf.config.list_physical_devices('GPU')))"
   ]
  },
  {
   "cell_type": "code",
   "execution_count": 28,
   "metadata": {
    "id": "d7wXr9e7771j",
    "outputId": "7510c74f-bc07-4e7e-c2b6-7cc03ce640dc"
   },
   "outputs": [
    {
     "ename": "InvalidArgumentError",
     "evalue": "No OpKernel was registered to support Op 'CudnnRNNV2' used by {{node encoder/Encoder_LSTM/CudnnRNNV2}} with these attrs: [dropout=0, seed=0, input_mode=\"linear_input\", T=DT_FLOAT, direction=\"unidirectional\", rnn_mode=\"lstm\", is_training=true, seed2=0]\nRegistered devices: [CPU]\nRegistered kernels:\n  device='GPU'; T in [DT_HALF]\n  device='GPU'; T in [DT_FLOAT]\n  device='GPU'; T in [DT_DOUBLE]\n\n\t [[encoder/Encoder_LSTM/CudnnRNNV2]] [Op:__inference_train_step_50600]",
     "output_type": "error",
     "traceback": [
      "\u001b[1;31m---------------------------------------------------------------------------\u001b[0m",
      "\u001b[1;31mInvalidArgumentError\u001b[0m                      Traceback (most recent call last)",
      "Input \u001b[1;32mIn [28]\u001b[0m, in \u001b[0;36m<cell line: 3>\u001b[1;34m()\u001b[0m\n\u001b[0;32m      1\u001b[0m tf\u001b[38;5;241m.\u001b[39mkeras\u001b[38;5;241m.\u001b[39mbackend\u001b[38;5;241m.\u001b[39mclear_session()\n\u001b[0;32m      2\u001b[0m model \u001b[38;5;241m=\u001b[39m MyModel(jpn_vocab, eng_vocab, embedding_dim, units)\n\u001b[1;32m----> 3\u001b[0m \u001b[43mmodel\u001b[49m\u001b[38;5;241;43m.\u001b[39;49m\u001b[43mfit\u001b[49m\u001b[43m(\u001b[49m\u001b[43mdataset\u001b[49m\u001b[43m,\u001b[49m\u001b[43m \u001b[49m\u001b[43mBATCH_SIZE\u001b[49m\u001b[43m,\u001b[49m\u001b[43m \u001b[49m\u001b[43mEPOCHS\u001b[49m\u001b[43m)\u001b[49m\n",
      "Input \u001b[1;32mIn [25]\u001b[0m, in \u001b[0;36mMyModel.fit\u001b[1;34m(self, dataset, BATCH_SIZE, epochs)\u001b[0m\n\u001b[0;32m     17\u001b[0m \u001b[38;5;28mself\u001b[39m\u001b[38;5;241m.\u001b[39mstate_h, \u001b[38;5;28mself\u001b[39m\u001b[38;5;241m.\u001b[39mstate_c \u001b[38;5;241m=\u001b[39m \u001b[38;5;28mself\u001b[39m\u001b[38;5;241m.\u001b[39mencoder\u001b[38;5;241m.\u001b[39minitialize_hidden_state(BATCH_SIZE)\n\u001b[0;32m     18\u001b[0m \u001b[38;5;28;01mfor\u001b[39;00m (batch, (inputs, target)) \u001b[38;5;129;01min\u001b[39;00m \u001b[38;5;28menumerate\u001b[39m(dataset):\n\u001b[1;32m---> 19\u001b[0m     batch_loss, variables, gradients \u001b[38;5;241m=\u001b[39m \u001b[43mtrain_step\u001b[49m\u001b[43m(\u001b[49m\u001b[38;5;28;43mself\u001b[39;49m\u001b[38;5;241;43m.\u001b[39;49m\u001b[43mencoder\u001b[49m\u001b[43m,\u001b[49m\u001b[43m \u001b[49m\u001b[38;5;28;43mself\u001b[39;49m\u001b[38;5;241;43m.\u001b[39;49m\u001b[43mdecoder\u001b[49m\u001b[43m,\u001b[49m\u001b[43m \u001b[49m\u001b[38;5;28;43mself\u001b[39;49m\u001b[38;5;241;43m.\u001b[39;49m\u001b[43mstate_h\u001b[49m\u001b[43m,\u001b[49m\u001b[43m \u001b[49m\u001b[38;5;28;43mself\u001b[39;49m\u001b[38;5;241;43m.\u001b[39;49m\u001b[43mstate_c\u001b[49m\u001b[43m,\u001b[49m\u001b[43m \u001b[49m\u001b[43minputs\u001b[49m\u001b[43m,\u001b[49m\u001b[43m \u001b[49m\u001b[43mtarget\u001b[49m\u001b[43m)\u001b[49m\n\u001b[0;32m     20\u001b[0m     total_loss \u001b[38;5;241m+\u001b[39m\u001b[38;5;241m=\u001b[39m batch_loss\n\u001b[0;32m     21\u001b[0m     \u001b[38;5;28;01mif\u001b[39;00m batch \u001b[38;5;241m%\u001b[39m \u001b[38;5;241m100\u001b[39m \u001b[38;5;241m==\u001b[39m \u001b[38;5;241m0\u001b[39m:\n",
      "File \u001b[1;32m~\\AppData\\Local\\Programs\\Python\\Python39\\lib\\site-packages\\tensorflow\\python\\util\\traceback_utils.py:153\u001b[0m, in \u001b[0;36mfilter_traceback.<locals>.error_handler\u001b[1;34m(*args, **kwargs)\u001b[0m\n\u001b[0;32m    151\u001b[0m \u001b[38;5;28;01mexcept\u001b[39;00m \u001b[38;5;167;01mException\u001b[39;00m \u001b[38;5;28;01mas\u001b[39;00m e:\n\u001b[0;32m    152\u001b[0m   filtered_tb \u001b[38;5;241m=\u001b[39m _process_traceback_frames(e\u001b[38;5;241m.\u001b[39m__traceback__)\n\u001b[1;32m--> 153\u001b[0m   \u001b[38;5;28;01mraise\u001b[39;00m e\u001b[38;5;241m.\u001b[39mwith_traceback(filtered_tb) \u001b[38;5;28;01mfrom\u001b[39;00m \u001b[38;5;28mNone\u001b[39m\n\u001b[0;32m    154\u001b[0m \u001b[38;5;28;01mfinally\u001b[39;00m:\n\u001b[0;32m    155\u001b[0m   \u001b[38;5;28;01mdel\u001b[39;00m filtered_tb\n",
      "File \u001b[1;32m~\\AppData\\Local\\Programs\\Python\\Python39\\lib\\site-packages\\tensorflow\\python\\eager\\execute.py:54\u001b[0m, in \u001b[0;36mquick_execute\u001b[1;34m(op_name, num_outputs, inputs, attrs, ctx, name)\u001b[0m\n\u001b[0;32m     52\u001b[0m \u001b[38;5;28;01mtry\u001b[39;00m:\n\u001b[0;32m     53\u001b[0m   ctx\u001b[38;5;241m.\u001b[39mensure_initialized()\n\u001b[1;32m---> 54\u001b[0m   tensors \u001b[38;5;241m=\u001b[39m pywrap_tfe\u001b[38;5;241m.\u001b[39mTFE_Py_Execute(ctx\u001b[38;5;241m.\u001b[39m_handle, device_name, op_name,\n\u001b[0;32m     55\u001b[0m                                       inputs, attrs, num_outputs)\n\u001b[0;32m     56\u001b[0m \u001b[38;5;28;01mexcept\u001b[39;00m core\u001b[38;5;241m.\u001b[39m_NotOkStatusException \u001b[38;5;28;01mas\u001b[39;00m e:\n\u001b[0;32m     57\u001b[0m   \u001b[38;5;28;01mif\u001b[39;00m name \u001b[38;5;129;01mis\u001b[39;00m \u001b[38;5;129;01mnot\u001b[39;00m \u001b[38;5;28;01mNone\u001b[39;00m:\n",
      "\u001b[1;31mInvalidArgumentError\u001b[0m: No OpKernel was registered to support Op 'CudnnRNNV2' used by {{node encoder/Encoder_LSTM/CudnnRNNV2}} with these attrs: [dropout=0, seed=0, input_mode=\"linear_input\", T=DT_FLOAT, direction=\"unidirectional\", rnn_mode=\"lstm\", is_training=true, seed2=0]\nRegistered devices: [CPU]\nRegistered kernels:\n  device='GPU'; T in [DT_HALF]\n  device='GPU'; T in [DT_FLOAT]\n  device='GPU'; T in [DT_DOUBLE]\n\n\t [[encoder/Encoder_LSTM/CudnnRNNV2]] [Op:__inference_train_step_50600]"
     ]
    }
   ],
   "source": [
    "tf.keras.backend.clear_session()\n",
    "model = MyModel(jpn_vocab, eng_vocab, embedding_dim, units)\n",
    "model.fit(dataset, BATCH_SIZE, EPOCHS)\n",
    "# model.save_weights('jpn_to_eng.h5')"
   ]
  },
  {
   "cell_type": "markdown",
   "metadata": {},
   "source": [
    "### 💁🏻 It took around 100 mins to train the model on around 52k sentences and the BLEU score so far is 0.53 which is pretty good. Let's test the model on some random datapoints from the test data and check the attention scores."
   ]
  },
  {
   "cell_type": "code",
   "execution_count": null,
   "metadata": {
    "id": "DrttBdGcAXWD",
    "outputId": "ae5342dc-2e08-4c80-9440-694199df7177"
   },
   "outputs": [],
   "source": [
    "model.test()"
   ]
  },
  {
   "cell_type": "code",
   "execution_count": null,
   "metadata": {
    "id": "EXgZSVilTAev",
    "outputId": "54f5d1c7-f329-44ab-bf34-312cbe796be5"
   },
   "outputs": [],
   "source": [
    "model.test()"
   ]
  },
  {
   "cell_type": "code",
   "execution_count": null,
   "metadata": {
    "id": "raXprGf-TAbI",
    "outputId": "ff98bd92-0262-48b4-8e64-c04f590191be"
   },
   "outputs": [],
   "source": [
    "model.test()"
   ]
  },
  {
   "cell_type": "markdown",
   "metadata": {},
   "source": [
    "### 💁🏻 The heatmap of attention scores tell us how the words in the input Japanese sentence and the predicted English sentence are related."
   ]
  },
  {
   "cell_type": "markdown",
   "metadata": {},
   "source": [
    "### 🍥 Finally, let's test the model on some of the quotes from Japanese manga Naruto."
   ]
  },
  {
   "cell_type": "markdown",
   "metadata": {},
   "source": [
    "<img src=\"https://i.ibb.co/CwPmH6n/291689-orochimaru.jpg\" alt=\"291689-orochimaru\" border=\"0\">"
   ]
  },
  {
   "cell_type": "code",
   "execution_count": null,
   "metadata": {},
   "outputs": [],
   "source": [
    "# ... asks Orochimaru! 🐍\n",
    "model.test('怖いのか？')"
   ]
  },
  {
   "cell_type": "markdown",
   "metadata": {},
   "source": [
    "<img src=\"https://i.ibb.co/W3TDNTj/Naruto-Cinco-cosas-que-el-anime-mejoro-en-relacion-al-manga-6-1.jpg\" alt=\"Naruto-Cinco-cosas-que-el-anime-mejoro-en-relacion-al-manga-6-1\" border=\"0\">"
   ]
  },
  {
   "cell_type": "code",
   "execution_count": null,
   "metadata": {},
   "outputs": [],
   "source": [
    "# ... says Naruto! 🦊\n",
    "model.test('怖くない！')"
   ]
  },
  {
   "cell_type": "markdown",
   "metadata": {},
   "source": [
    "<img src=\"https://i.ibb.co/YWXcL6v/itachi.jpg\" alt=\"itachi\" border=\"0\">"
   ]
  },
  {
   "cell_type": "code",
   "execution_count": null,
   "metadata": {},
   "outputs": [],
   "source": [
    "# Finally, *a long dialogue by* Itachi! 🔴\n",
    "model.test('彼らがそれを失わない限り、何かの真の価値を実現しないことは人間の本性です。')"
   ]
  },
  {
   "cell_type": "markdown",
   "metadata": {},
   "source": [
    "### The model seems to perform pretty good on short sentences but seems lost while translating long sentences, probably because of the small dataset.\n",
    "### In the future version I'll improve the performance of this model by adding more data and by some fine-tuning. I'll also use the other scoring functions and see which one works the best.\n",
    "### Thanks for reading, hope the notebook was useful! Comments and feedbacks are most welcomed!\n",
    "### Stay strong! Keep on learning!\n",
    "### さようなら！☮"
   ]
  },
  {
   "cell_type": "code",
   "execution_count": null,
   "metadata": {},
   "outputs": [],
   "source": []
  }
 ],
 "metadata": {
  "kernelspec": {
   "display_name": "Python 3 (ipykernel)",
   "language": "python",
   "name": "python3"
  },
  "language_info": {
   "codemirror_mode": {
    "name": "ipython",
    "version": 3
   },
   "file_extension": ".py",
   "mimetype": "text/x-python",
   "name": "python",
   "nbconvert_exporter": "python",
   "pygments_lexer": "ipython3",
   "version": "3.9.10"
  },
  "vscode": {
   "interpreter": {
    "hash": "4f2cb0bdac6599155e45834e8521918345650f3c29e32027825b3dfea0177c07"
   }
  }
 },
 "nbformat": 4,
 "nbformat_minor": 4
}
